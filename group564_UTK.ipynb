{
 "cells": [
  {
   "cell_type": "code",
   "execution_count": 1,
   "id": "cb8b1a29-ca9f-4b78-98d9-2d60b9f3f5ec",
   "metadata": {},
   "outputs": [],
   "source": [
    "import pandas as pd\n",
    "import numpy as np\n",
    "import cv2\n",
    "import os\n",
    "from sklearn.utils import shuffle\n",
    "from tqdm import tqdm\n",
    "import random\n",
    "from PIL import Image"
   ]
  },
  {
   "cell_type": "code",
   "execution_count": 2,
   "id": "e4f3fea6-64e8-4445-848b-b5d9f565b62e",
   "metadata": {},
   "outputs": [],
   "source": [
    "from sklearn.model_selection import train_test_split"
   ]
  },
  {
   "cell_type": "code",
   "execution_count": 3,
   "id": "9838229f-a5b0-40c2-a8c7-7b1e2003ed65",
   "metadata": {},
   "outputs": [],
   "source": [
    "random.seed(456)"
   ]
  },
  {
   "cell_type": "code",
   "execution_count": 4,
   "id": "b49b1650-3f1e-4a34-af42-2e9b7c4017e9",
   "metadata": {},
   "outputs": [],
   "source": [
    "# 定义图像增强函数\n",
    "def random_rotation(img):\n",
    "    angle = random.randint(-30, 30)\n",
    "    rows, cols = img.shape[:2]\n",
    "    M = cv2.getRotationMatrix2D((cols/2, rows/2), angle, 1)\n",
    "    img = cv2.warpAffine(img, M, (cols, rows))\n",
    "    return img\n",
    "\n",
    "def random_scale(img):\n",
    "    scale = random.uniform(0.8, 1.2)\n",
    "    img = cv2.resize(img, None, fx=scale, fy=scale, interpolation=cv2.INTER_LINEAR)\n",
    "    return img\n",
    "\n",
    "def gaussian_blur(img):\n",
    "    return cv2.GaussianBlur(img, (5, 5), 0)\n",
    "\n",
    "def color_perturbation(img):\n",
    "    img = img.astype(np.float32)\n",
    "    img += np.random.normal(0, 10, img.shape)\n",
    "    img = np.clip(img, 0, 255)\n",
    "    return img.astype(np.uint8)\n",
    "\n",
    "def augment_image(img):\n",
    "    img = random_rotation(img)\n",
    "    img = random_scale(img)\n",
    "    img = gaussian_blur(img)\n",
    "    img = color_perturbation(img)\n",
    "    return img\n"
   ]
  },
  {
   "cell_type": "code",
   "execution_count": 5,
   "id": "2ed3b639-3ef9-4195-8222-0879f0af73e6",
   "metadata": {},
   "outputs": [],
   "source": [
    "def load_data_to_dataframe(data_dir):\n",
    "    data = []\n",
    "    for filename in os.listdir(data_dir):\n",
    "        if filename.endswith(\".jpg\"):\n",
    "            try:\n",
    "                # 文件名\n",
    "                parts = filename.split('_')\n",
    "                if len(parts) < 4:  # 如果分割后的部分不足4个，跳过该文件\n",
    "                    print(f\"跳过文件（命名不规范）: {filename}\")\n",
    "                    continue\n",
    "\n",
    "                # 提取年龄、性别等信息\n",
    "                age = int(parts[0])\n",
    "                gender = int(parts[1])\n",
    "                # ethnicity = int(parts[2])  # 如果需要种族信息，可以取消注释\n",
    "\n",
    "                # 读取图像\n",
    "                img_path = os.path.join(data_dir, filename)\n",
    "                img = Image.open(img_path).convert('RGB')\n",
    "                img = img.resize((224, 224))  # 调整图像尺寸\n",
    "                img = np.array(img)  # 转换为numpy数组\n",
    "\n",
    "                # 添加到数据列表\n",
    "                data.append({\n",
    "                    'age': age,\n",
    "                    # 'ethnicity': ethnicity,  # 如果需要种族信息，可以取消注释\n",
    "                    'gender': gender,\n",
    "                    'img_name': filename,\n",
    "                    'pixels': img\n",
    "                })\n",
    "            except (ValueError, IndexError) as e:\n",
    "                # 如果解析失败，跳过该文件\n",
    "                print(f\"跳过文件（解析失败）: {filename}, 错误: {e}\")\n",
    "                continue\n",
    "\n",
    "    # 创建DataFrame\n",
    "    df = pd.DataFrame(data)\n",
    "    return df"
   ]
  },
  {
   "cell_type": "code",
   "execution_count": 6,
   "id": "e7b261f3-0364-410e-a768-0e51f8e95912",
   "metadata": {},
   "outputs": [],
   "source": [
    "def augment_dataframe(df):\n",
    "    augmented_data = []\n",
    "    for idx, row in df.iterrows():\n",
    "        img = row['pixels']\n",
    "        img_augmented = augment_image(img)  \n",
    "        augmented_data.append(img_augmented)\n",
    "\n",
    "    df_augmented = pd.DataFrame({\n",
    "        'age': df['age'],\n",
    "        # 'ethnicity': df['ethnicity'],\n",
    "        'gender': df['gender'],\n",
    "        'img_name': df['img_name'],\n",
    "        'pixels': augmented_data\n",
    "    })\n",
    "    return df_augmented"
   ]
  },
  {
   "cell_type": "code",
   "execution_count": 7,
   "id": "6b9440ff-8e02-45d3-89f0-c2b751847bc8",
   "metadata": {},
   "outputs": [
    {
     "name": "stdout",
     "output_type": "stream",
     "text": [
      "跳过文件（命名不规范）: 39_1_20170116174525125.jpg.chip.jpg\n",
      "跳过文件（命名不规范）: 61_1_20170109150557335.jpg.chip.jpg\n",
      "跳过文件（命名不规范）: 61_1_20170109142408075.jpg.chip.jpg\n"
     ]
    }
   ],
   "source": [
    "data_dir = os.path.join('UTKFace')\n",
    "df = load_data_to_dataframe(data_dir)\n",
    "#df_augmented = augment_dataframe(df)\n",
    "# df_augmented.to_csv('augmented_data.csv', index=False)  # 保存为CSV文件\n"
   ]
  },
  {
   "cell_type": "code",
   "execution_count": 8,
   "id": "8d485afb-0dfb-4550-87f7-cea69c9e6408",
   "metadata": {},
   "outputs": [
    {
     "data": {
      "text/plain": [
       "<bound method NDFrame.head of        age  gender                               img_name  \\\n",
       "0        9       1   9_1_2_20161219204347420.jpg.chip.jpg   \n",
       "1       36       0  36_0_1_20170117163203851.jpg.chip.jpg   \n",
       "2       86       1  86_1_0_20170120225751953.jpg.chip.jpg   \n",
       "3       26       1  26_1_0_20170116171048641.jpg.chip.jpg   \n",
       "4        1       1   1_1_2_20161219154612988.jpg.chip.jpg   \n",
       "...    ...     ...                                    ...   \n",
       "23700   35       0  35_0_0_20170117155112202.jpg.chip.jpg   \n",
       "23701   52       0  52_0_3_20170119200211340.jpg.chip.jpg   \n",
       "23702   26       0  26_0_1_20170116010114628.jpg.chip.jpg   \n",
       "23703   28       0  28_0_1_20170117015458481.jpg.chip.jpg   \n",
       "23704   50       1  50_1_1_20170120220813715.jpg.chip.jpg   \n",
       "\n",
       "                                                  pixels  \n",
       "0      [[[93, 107, 74], [91, 105, 72], [88, 102, 69],...  \n",
       "1      [[[242, 228, 43], [241, 227, 42], [241, 225, 4...  \n",
       "2      [[[225, 230, 210], [223, 228, 208], [221, 226,...  \n",
       "3      [[[239, 238, 252], [239, 238, 252], [239, 238,...  \n",
       "4      [[[97, 63, 51], [95, 61, 49], [92, 58, 46], [9...  \n",
       "...                                                  ...  \n",
       "23700  [[[164, 145, 115], [165, 146, 116], [166, 148,...  \n",
       "23701  [[[17, 59, 84], [15, 57, 82], [14, 55, 80], [1...  \n",
       "23702  [[[187, 190, 199], [151, 154, 163], [107, 108,...  \n",
       "23703  [[[188, 5, 0], [188, 5, 0], [192, 6, 1], [194,...  \n",
       "23704  [[[49, 45, 36], [48, 44, 35], [46, 42, 33], [4...  \n",
       "\n",
       "[23705 rows x 4 columns]>"
      ]
     },
     "execution_count": 8,
     "metadata": {},
     "output_type": "execute_result"
    }
   ],
   "source": [
    "df.head"
   ]
  },
  {
   "cell_type": "code",
   "execution_count": 9,
   "id": "b79f5bed-cbec-4073-bfd0-ebd6f981212a",
   "metadata": {},
   "outputs": [],
   "source": [
    "#进行数据增强前先划分数据集\n",
    "# 指定划分比例\n",
    "train_ratio = 0.8  # 训练集比例\n",
    "val_ratio = 0.2    # 验证集比例\n",
    "\n",
    "# 划分数据集\n",
    "train_df, val_df = train_test_split(df, test_size=val_ratio, random_state=456)"
   ]
  },
  {
   "cell_type": "code",
   "execution_count": 10,
   "id": "ade52644-ab59-498d-8ba8-29d0a1a0de54",
   "metadata": {},
   "outputs": [
    {
     "name": "stdout",
     "output_type": "stream",
     "text": [
      "训练集大小: 18964\n",
      "验证集大小: 4741\n"
     ]
    }
   ],
   "source": [
    "# 输出划分结果\n",
    "print(f\"训练集大小: {len(train_df)}\")\n",
    "print(f\"验证集大小: {len(val_df)}\")\n"
   ]
  },
  {
   "cell_type": "code",
   "execution_count": 11,
   "id": "fa119a1c-3142-4d62-8dc9-ddf0e87c05d0",
   "metadata": {},
   "outputs": [],
   "source": [
    "#仅对训练集进行数据增强\n",
    "df_augmented = augment_dataframe(train_df)\n",
    "# df_augmented.to_csv('augmented_data.csv', index=False)  # 保存为CSV文件"
   ]
  },
  {
   "cell_type": "code",
   "execution_count": 12,
   "id": "6ca102f9-9ffd-4ead-b9f5-586a3da1a648",
   "metadata": {},
   "outputs": [
    {
     "data": {
      "text/html": [
       "<div>\n",
       "<style scoped>\n",
       "    .dataframe tbody tr th:only-of-type {\n",
       "        vertical-align: middle;\n",
       "    }\n",
       "\n",
       "    .dataframe tbody tr th {\n",
       "        vertical-align: top;\n",
       "    }\n",
       "\n",
       "    .dataframe thead th {\n",
       "        text-align: right;\n",
       "    }\n",
       "</style>\n",
       "<table border=\"1\" class=\"dataframe\">\n",
       "  <thead>\n",
       "    <tr style=\"text-align: right;\">\n",
       "      <th></th>\n",
       "      <th>age</th>\n",
       "      <th>gender</th>\n",
       "      <th>img_name</th>\n",
       "      <th>pixels</th>\n",
       "    </tr>\n",
       "  </thead>\n",
       "  <tbody>\n",
       "    <tr>\n",
       "      <th>16430</th>\n",
       "      <td>40</td>\n",
       "      <td>0</td>\n",
       "      <td>40_0_0_20170104205931291.jpg.chip.jpg</td>\n",
       "      <td>[[[0, 4, 1], [7, 0, 9], [1, 0, 0], [0, 8, 11],...</td>\n",
       "    </tr>\n",
       "    <tr>\n",
       "      <th>2107</th>\n",
       "      <td>11</td>\n",
       "      <td>0</td>\n",
       "      <td>11_0_3_20170104230222352.jpg.chip.jpg</td>\n",
       "      <td>[[[0, 1, 11], [24, 0, 5], [25, 13, 14], [21, 3...</td>\n",
       "    </tr>\n",
       "    <tr>\n",
       "      <th>6799</th>\n",
       "      <td>42</td>\n",
       "      <td>0</td>\n",
       "      <td>42_0_0_20170117185635954.jpg.chip.jpg</td>\n",
       "      <td>[[[0, 23, 2], [16, 0, 0], [15, 19, 0], [5, 11,...</td>\n",
       "    </tr>\n",
       "    <tr>\n",
       "      <th>4205</th>\n",
       "      <td>39</td>\n",
       "      <td>1</td>\n",
       "      <td>39_1_0_20170117171010820.jpg.chip.jpg</td>\n",
       "      <td>[[[0, 0, 0], [5, 4, 5], [0, 6, 0], [15, 0, 0],...</td>\n",
       "    </tr>\n",
       "    <tr>\n",
       "      <th>19614</th>\n",
       "      <td>8</td>\n",
       "      <td>1</td>\n",
       "      <td>8_1_0_20170109204817102.jpg.chip.jpg</td>\n",
       "      <td>[[[14, 4, 0], [27, 0, 3], [13, 0, 3], [0, 14, ...</td>\n",
       "    </tr>\n",
       "  </tbody>\n",
       "</table>\n",
       "</div>"
      ],
      "text/plain": [
       "       age  gender                               img_name  \\\n",
       "16430   40       0  40_0_0_20170104205931291.jpg.chip.jpg   \n",
       "2107    11       0  11_0_3_20170104230222352.jpg.chip.jpg   \n",
       "6799    42       0  42_0_0_20170117185635954.jpg.chip.jpg   \n",
       "4205    39       1  39_1_0_20170117171010820.jpg.chip.jpg   \n",
       "19614    8       1   8_1_0_20170109204817102.jpg.chip.jpg   \n",
       "\n",
       "                                                  pixels  \n",
       "16430  [[[0, 4, 1], [7, 0, 9], [1, 0, 0], [0, 8, 11],...  \n",
       "2107   [[[0, 1, 11], [24, 0, 5], [25, 13, 14], [21, 3...  \n",
       "6799   [[[0, 23, 2], [16, 0, 0], [15, 19, 0], [5, 11,...  \n",
       "4205   [[[0, 0, 0], [5, 4, 5], [0, 6, 0], [15, 0, 0],...  \n",
       "19614  [[[14, 4, 0], [27, 0, 3], [13, 0, 3], [0, 14, ...  "
      ]
     },
     "execution_count": 12,
     "metadata": {},
     "output_type": "execute_result"
    }
   ],
   "source": [
    "df_augmented.head()"
   ]
  },
  {
   "cell_type": "code",
   "execution_count": 13,
   "id": "300c4a1d-8998-4f44-932f-61bd9a2d09dc",
   "metadata": {},
   "outputs": [
    {
     "name": "stdout",
     "output_type": "stream",
     "text": [
      "Stored 'df_augmented' (DataFrame)\n",
      "Stored 'val_df' (DataFrame)\n"
     ]
    }
   ],
   "source": [
    "%store df_augmented\n",
    "%store val_df"
   ]
  }
 ],
 "metadata": {
  "kernelspec": {
   "display_name": "Python 3",
   "language": "python",
   "name": "python3"
  },
  "language_info": {
   "codemirror_mode": {
    "name": "ipython",
    "version": 3
   },
   "file_extension": ".py",
   "mimetype": "text/x-python",
   "name": "python",
   "nbconvert_exporter": "python",
   "pygments_lexer": "ipython3",
   "version": "3.10.6"
  }
 },
 "nbformat": 4,
 "nbformat_minor": 5
}
